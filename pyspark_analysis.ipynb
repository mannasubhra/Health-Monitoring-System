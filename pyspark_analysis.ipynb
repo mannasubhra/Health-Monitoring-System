{
  "nbformat": 4,
  "nbformat_minor": 0,
  "metadata": {
    "colab": {
      "provenance": []
    },
    "kernelspec": {
      "name": "python3",
      "display_name": "Python 3"
    },
    "language_info": {
      "name": "python"
    }
  },
  "cells": [
    {
      "cell_type": "code",
      "execution_count": 17,
      "metadata": {
        "colab": {
          "base_uri": "https://localhost:8080/"
        },
        "id": "clAQCh6awGaD",
        "outputId": "e0018e8b-0b55-448e-cf66-3719f63063c2"
      },
      "outputs": [
        {
          "output_type": "stream",
          "name": "stdout",
          "text": [
            "Requirement already satisfied: pyspark in /usr/local/lib/python3.11/dist-packages (3.5.4)\n",
            "Requirement already satisfied: py4j==0.10.9.7 in /usr/local/lib/python3.11/dist-packages (from pyspark) (0.10.9.7)\n"
          ]
        }
      ],
      "source": [
        "!pip install pyspark"
      ]
    },
    {
      "cell_type": "code",
      "source": [
        "from pyspark.sql import SparkSession\n",
        "from pyspark.sql.functions import col, count, avg, when\n",
        "\n",
        "spark = SparkSession.builder.appName(\"PatientHealthAnalysis\").getOrCreate()\n",
        "\n",
        "df = spark.read.csv(\"patients_data.csv\", header=True, inferSchema=True)\n",
        "\n",
        "df.show(5)"
      ],
      "metadata": {
        "colab": {
          "base_uri": "https://localhost:8080/"
        },
        "id": "gy5xdeSuwb9w",
        "outputId": "23beccfd-b8ba-4ae1-a619-e00c5a3554b8"
      },
      "execution_count": 18,
      "outputs": [
        {
          "output_type": "stream",
          "name": "stdout",
          "text": [
            "+--------------------+-------------------+---+------+---------+---------+----+-----------+------------+-----------+-----------+----------+\n",
            "|          Patient_ID|               Name|Age|Gender|Weight_kg|Height_cm| BMI|BP_Systolic|BP_Diastolic|Sugar_Level|Cholesterol|Hemoglobin|\n",
            "+--------------------+-------------------+---+------+---------+---------+----+-----------+------------+-----------+-----------+----------+\n",
            "|bdd640fb-0667-4ad...|       Daniel Doyle| 21|  Male|    101.9|    162.2|38.7|        107|         107|       88.4|      248.1|      14.4|\n",
            "|8b9d2434-e465-415...|     Javier Johnson| 22|Female|     52.1|    160.9|20.1|        154|          98|       74.8|      139.8|      15.2|\n",
            "|9a1de644-815e-46d...|    Cristian Santos| 46|Female|     81.4|    163.9|30.3|         90|         108|      215.0|      239.6|      12.7|\n",
            "|72ff5d2a-386e-4be...|       Rhonda Smith| 45|  Male|    117.0|    166.8|42.1|        101|          84|       87.4|      269.5|      14.8|\n",
            "|6c307511-b2b9-437...|Christopher Bernard| 76|  Male|     87.5|    198.7|22.2|        138|          65|      169.4|      265.9|      14.9|\n",
            "+--------------------+-------------------+---+------+---------+---------+----+-----------+------------+-----------+-----------+----------+\n",
            "only showing top 5 rows\n",
            "\n"
          ]
        }
      ]
    },
    {
      "cell_type": "code",
      "source": [
        "df.printSchema()"
      ],
      "metadata": {
        "colab": {
          "base_uri": "https://localhost:8080/"
        },
        "id": "PtTF_3d2xWUO",
        "outputId": "8a21b8de-a103-4e95-fcb0-e1f2c5519e41"
      },
      "execution_count": 19,
      "outputs": [
        {
          "output_type": "stream",
          "name": "stdout",
          "text": [
            "root\n",
            " |-- Patient_ID: string (nullable = true)\n",
            " |-- Name: string (nullable = true)\n",
            " |-- Age: integer (nullable = true)\n",
            " |-- Gender: string (nullable = true)\n",
            " |-- Weight_kg: double (nullable = true)\n",
            " |-- Height_cm: double (nullable = true)\n",
            " |-- BMI: double (nullable = true)\n",
            " |-- BP_Systolic: integer (nullable = true)\n",
            " |-- BP_Diastolic: integer (nullable = true)\n",
            " |-- Sugar_Level: double (nullable = true)\n",
            " |-- Cholesterol: double (nullable = true)\n",
            " |-- Hemoglobin: double (nullable = true)\n",
            "\n"
          ]
        }
      ]
    },
    {
      "cell_type": "markdown",
      "source": [
        "#Basic Statistics"
      ],
      "metadata": {
        "id": "aTo1j9CMzVQo"
      }
    },
    {
      "cell_type": "code",
      "source": [
        "df.describe().show()"
      ],
      "metadata": {
        "colab": {
          "base_uri": "https://localhost:8080/"
        },
        "id": "MUHxCA-X12Jj",
        "outputId": "210c8ec5-7c83-42c5-dd6f-c2d28a264b35"
      },
      "execution_count": 25,
      "outputs": [
        {
          "output_type": "stream",
          "name": "stdout",
          "text": [
            "+-------+--------------------+----------------+-----------------+------+------------------+------------------+------------------+-----------------+-----------------+------------------+-----------------+------------------+\n",
            "|summary|          Patient_ID|            Name|              Age|Gender|         Weight_kg|         Height_cm|               BMI|      BP_Systolic|     BP_Diastolic|       Sugar_Level|      Cholesterol|        Hemoglobin|\n",
            "+-------+--------------------+----------------+-----------------+------+------------------+------------------+------------------+-----------------+-----------------+------------------+-----------------+------------------+\n",
            "|  count|               10000|           10000|            10000| 10000|             10000|             10000|             10000|            10000|            10000|             10000|            10000|             10000|\n",
            "|   mean|                NULL|            NULL|          53.7921|  NULL| 85.36331999999997| 174.8448299999999|28.498029999999964|         135.3349|          89.9937|159.66107000000008|200.0592500000007|13.978190000000001|\n",
            "| stddev|                NULL|            NULL|21.09780532019704|  NULL|20.215342801596492|14.403424701626127|   8.3081476666502|26.25880984544904|17.64055495804831| 51.93854977519472|57.75380815732547|2.3005509290945336|\n",
            "|    min|0003d09b-548a-483...|Aaron Arnold Jr.|               18|Female|              50.0|             150.0|              12.6|               90|               60|              70.0|            100.0|              10.0|\n",
            "|    max|fffe245d-f143-4c3...|        Zoe Gray|               90|  Male|             120.0|             200.0|              52.7|              180|              120|             250.0|            300.0|              18.0|\n",
            "+-------+--------------------+----------------+-----------------+------+------------------+------------------+------------------+-----------------+-----------------+------------------+-----------------+------------------+\n",
            "\n"
          ]
        }
      ]
    },
    {
      "cell_type": "code",
      "source": [
        "df.select(\n",
        "    count(\"*\").alias(\"Total Patients\"),\n",
        "    avg(\"Age\").alias(\"Avg Age\"),\n",
        "    avg(\"BMI\").alias(\"Avg BMI\"),\n",
        "    avg(\"BP_Systolic\").alias(\"Avg Systolic BP\"),\n",
        "    avg(\"BP_Diastolic\").alias(\"Avg Diastolic BP\"),\n",
        "    avg(\"Sugar_Level\").alias(\"Avg Sugar Level\"),\n",
        "    avg(\"Cholesterol\").alias(\"Avg Cholesterol\"),\n",
        "    avg(\"Hemoglobin\").alias(\"Avg Hemoglobin\")\n",
        ").show()"
      ],
      "metadata": {
        "colab": {
          "base_uri": "https://localhost:8080/"
        },
        "id": "odj1lsyFxl_Y",
        "outputId": "9bb75a1c-cf43-405b-eaf4-d2337103ca9e"
      },
      "execution_count": 20,
      "outputs": [
        {
          "output_type": "stream",
          "name": "stdout",
          "text": [
            "+--------------+-------+------------------+---------------+----------------+------------------+-----------------+------------------+\n",
            "|Total Patients|Avg Age|           Avg BMI|Avg Systolic BP|Avg Diastolic BP|   Avg Sugar Level|  Avg Cholesterol|    Avg Hemoglobin|\n",
            "+--------------+-------+------------------+---------------+----------------+------------------+-----------------+------------------+\n",
            "|         10000|53.7921|28.498029999999964|       135.3349|         89.9937|159.66107000000008|200.0592500000007|13.978190000000001|\n",
            "+--------------+-------+------------------+---------------+----------------+------------------+-----------------+------------------+\n",
            "\n"
          ]
        }
      ]
    },
    {
      "cell_type": "code",
      "source": [
        "# Count patients with high/low BMI\n",
        "df.select(\n",
        "    count(when(col(\"BMI\") < 18.5, True)).alias(\"Underweight\"),\n",
        "    count(when((col(\"BMI\") >= 18.5) & (col(\"BMI\") <= 24.9), True)).alias(\"Normal Weight\"),\n",
        "    count(when(col(\"BMI\") >= 25, True)).alias(\"Overweight\")\n",
        ").show()\n",
        "\n",
        "# Count patients with abnormal blood pressure\n",
        "df.select(\n",
        "    count(when(col(\"BP_Systolic\") > 140, True)).alias(\"High BP (Hypertension)\"),\n",
        "    count(when(col(\"BP_Systolic\") < 90, True)).alias(\"Low BP\"),\n",
        "    count(when((col(\"BP_Systolic\") >= 90) & (col(\"BP_Systolic\") <= 120), True)).alias(\"Normal BP\")\n",
        ").show()\n",
        "\n",
        "# Count patients with high sugar levels (potential diabetes risk)\n",
        "df.select(\n",
        "    count(when(col(\"Sugar_Level\") > 140, True)).alias(\"Diabetes Risk\"),\n",
        "    count(when(col(\"Sugar_Level\") < 70, True)).alias(\"Low Sugar\"),\n",
        "    count(when((col(\"Sugar_Level\") >= 70) & (col(\"Sugar_Level\") <= 140), True)).alias(\"Normal Sugar Level\")\n",
        ").show()\n",
        "\n",
        "# Count patients with high cholesterol\n",
        "df.select(\n",
        "    count(when(col(\"Cholesterol\") > 200, True)).alias(\"High Cholesterol\"),\n",
        "    count(when(col(\"Cholesterol\") < 100, True)).alias(\"Low Cholesterol\"),\n",
        "    count(when((col(\"Cholesterol\") >= 100) & (col(\"Cholesterol\") <= 200), True)).alias(\"Normal Cholesterol\")\n",
        ").show()"
      ],
      "metadata": {
        "colab": {
          "base_uri": "https://localhost:8080/"
        },
        "id": "ZX0Nl7mky0Tc",
        "outputId": "b8eaba9d-b96c-47b8-fac4-fdfcf4aff20a"
      },
      "execution_count": 21,
      "outputs": [
        {
          "output_type": "stream",
          "name": "stdout",
          "text": [
            "+-----------+-------------+----------+\n",
            "|Underweight|Normal Weight|Overweight|\n",
            "+-----------+-------------+----------+\n",
            "|       1142|         2635|      6223|\n",
            "+-----------+-------------+----------+\n",
            "\n",
            "+----------------------+------+---------+\n",
            "|High BP (Hypertension)|Low BP|Normal BP|\n",
            "+----------------------+------+---------+\n",
            "|                  4494|     0|     3326|\n",
            "+----------------------+------+---------+\n",
            "\n",
            "+-------------+---------+------------------+\n",
            "|Diabetes Risk|Low Sugar|Normal Sugar Level|\n",
            "+-------------+---------+------------------+\n",
            "|         6097|        0|              3903|\n",
            "+-------------+---------+------------------+\n",
            "\n",
            "+----------------+---------------+------------------+\n",
            "|High Cholesterol|Low Cholesterol|Normal Cholesterol|\n",
            "+----------------+---------------+------------------+\n",
            "|            5005|              0|              4995|\n",
            "+----------------+---------------+------------------+\n",
            "\n"
          ]
        }
      ]
    }
  ]
}